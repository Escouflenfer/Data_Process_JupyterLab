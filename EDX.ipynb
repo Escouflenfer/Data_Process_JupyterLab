{
 "cells": [
  {
   "cell_type": "raw",
   "id": "ad25ead3-1f35-4b74-bf4f-fa607731cc88",
   "metadata": {},
   "source": [
    "Jupyter Notebook for Energy Dispersive X-Ray data visualization and data treatment\n",
    "@version EDX-release-1.0\n",
    "@author William Rigaut\n",
    "@date 30.04.2024"
   ]
  },
  {
   "cell_type": "code",
   "execution_count": null,
   "id": "e309c21e-54b4-41e8-a737-34bff3f6bf42",
   "metadata": {
    "jupyter": {
     "source_hidden": true
    },
    "scrolled": true
   },
   "outputs": [],
   "source": [
    "#Installing required package to run the Notebook (not needed if install.sh was executed)\n",
    "#!pip install exspy\n",
    "#!pip install exspy --upgrade\n",
    "#!pip install numba\n",
    "#!pip install hyperspy --upgrade\n",
    "#!python3.10 -m ipykernel install --user\n",
    "!pip install openpyxl"
   ]
  },
  {
   "cell_type": "raw",
   "id": "ae15890d-0e3b-4c4a-9175-4f696b2ef5d5",
   "metadata": {},
   "source": [
    "EDX mapping, reading directly the .xlsx file"
   ]
  },
  {
   "cell_type": "code",
   "execution_count": 3,
   "id": "41934253-8347-459e-a332-1abba1e73030",
   "metadata": {
    "jupyter": {
     "source_hidden": true
    }
   },
   "outputs": [
    {
     "data": {
      "application/vnd.jupyter.widget-view+json": {
       "model_id": "054d0b41935f40d983a93815ae26f676",
       "version_major": 2,
       "version_minor": 0
      },
      "text/plain": [
       "GridBox(children=(Dropdown(description='Folder', layout=Layout(grid_area='path', width='auto'), options=(('291…"
      ]
     },
     "metadata": {},
     "output_type": "display_data"
    }
   ],
   "source": [
    "import os;\n",
    "import numpy as np;\n",
    "import matplotlib.pyplot as plt;\n",
    "from openpyxl import load_workbook;\n",
    "from scipy.spatial import QhullError;\n",
    "from scipy.interpolate import griddata;\n",
    "from ipywidgets import widgets, Layout, GridBox;\n",
    "from IPython.display import display;\n",
    "\n",
    "W_folderpath = widgets.Dropdown(\n",
    "    options=[(elm, elm) for elm in os.listdir('./data/EDX/')\n",
    "                                         if not elm.startswith('~$') and elm.endswith('.xlsx')],\n",
    "    value=None,\n",
    "    description='Folder',\n",
    "    disabled=False,\n",
    "    layout=Layout(width='auto', grid_area='path')\n",
    ");\n",
    "W_elm = widgets.Dropdown(\n",
    "    options=[('Select a folder', None)],\n",
    "    value=None,\n",
    "    description='Element',\n",
    "    disabled=False,\n",
    "    layout=Layout(width='100%', grid_area='elm')\n",
    ");\n",
    "W_EDX_out = widgets.Output(\n",
    "    layout=Layout(width='auto', grid_area='plot')\n",
    ");\n",
    "\n",
    "#interface layout and box\n",
    "EDX_plot_layout = Layout(\n",
    "    width='100%',\n",
    "    grid_gap='0px 0px',\n",
    "    grid_template_rows='auto auto',\n",
    "    grid_template_columns='16.66% 16.66% 16.66% 16.66% 16.66% 16.66%',\n",
    "    grid_template_areas='''\n",
    "    \"path path elm elm . .\"\n",
    "    \"plot plot plot plot plot plot\"\n",
    "    '''\n",
    ");\n",
    "EDX_gridbox = GridBox(\n",
    "    children=[W_folderpath, W_elm, W_EDX_out],\n",
    "    layout=EDX_plot_layout);\n",
    "\n",
    "def EDX_plot(change):\n",
    "    with W_EDX_out:\n",
    "        #clear the previous plot\n",
    "        W_EDX_out.clear_output();\n",
    "        \n",
    "        #loading the data inside the .xlsx file\n",
    "        datafile = f'./data/EDX/{W_folderpath.value}';\n",
    "        try:\n",
    "            wb = load_workbook(filename = datafile);\n",
    "        except FileNotFoundError:\n",
    "            print(\"Not found: Error code 1\");\n",
    "            return 1;\n",
    "        ws = wb.active;\n",
    "\n",
    "        #putting all the data inside lists to obtain a treatable format\n",
    "        LIST_DATA = []; X_POS = []; Y_POS = []; ELM = [];\n",
    "        for i, row in enumerate(ws.values):\n",
    "            LIST_DATA.append(row);\n",
    "            \n",
    "        #checking all the element that have been quantified by excluding the deconvoluted ones\n",
    "        index_tab = [];\n",
    "        for index, elm in enumerate(LIST_DATA[-3]):\n",
    "            if index > 0 and elm is not None:\n",
    "                if float(elm) != 0.0:\n",
    "                    index_tab.append(index);\n",
    "        elm_options = [(LIST_DATA[0][index], index) for index in index_tab];\n",
    "        if elm_options != list(W_elm.options):\n",
    "            W_elm.options = elm_options;\n",
    "            return 0;\n",
    "        index = W_elm.options[0][-1];\n",
    "        elm_value = W_elm.value;\n",
    "\n",
    "        #change index accordingly to prompt from user\n",
    "        if index != elm_value:\n",
    "            index = elm_value;\n",
    "        \n",
    "        #reading the data for plotting\n",
    "        step_x, step_y = 5, 5;\n",
    "        start_x, start_y = -40, -40;\n",
    "        for row in LIST_DATA:\n",
    "            if row[0] == 'Spectrum':\n",
    "                title = row[index];\n",
    "            elif row[0].startswith('Spectrum_'):\n",
    "                x_index, y_index = row[0].split('(')[-1].split(')')[0].split(',');\n",
    "                x_pos, y_pos = (int(x_index)-1)*step_x+start_x, (int(y_index)-1)*step_y+start_y;\n",
    "                if np.abs(x_pos) + np.abs(y_pos) <= 60 :\n",
    "                    X_POS.append(x_pos); Y_POS.append(y_pos);\n",
    "                    ELM.append(float(row[index]));\n",
    "            else:\n",
    "                #print(row[0]);\n",
    "                continue;\n",
    "\n",
    "        #create x-y points to be used in heatmap\n",
    "        xi = np.linspace(np.min(X_POS), np.max(X_POS), 500);\n",
    "        yi = np.linspace(np.min(Y_POS), np.max(Y_POS), 500);\n",
    "                        \n",
    "        #interpolation between the points for 2D map\n",
    "        try:\n",
    "            zi = griddata((X_POS, Y_POS), ELM, (xi[None,:], yi[:,None]), method='cubic');\n",
    "        except QhullError:\n",
    "            print(f\"Error: Data is not 2-dimensionnal, cannot create a map\");\n",
    "            return 1;\n",
    "        # Create the contour plot\n",
    "        plt.figure(figsize=(7.5, 6));\n",
    "        plt.title(f'{title} (in at.%)');\n",
    "        CS = plt.contourf(xi, yi, zi, 100, cmap=plt.cm.rainbow, vmax=max(ELM), vmin=min(ELM));\n",
    "        plt.colorbar(CS);\n",
    "        plt.figure(dpi=400);\n",
    "        plt.show();\n",
    "    return 0;\n",
    "\n",
    "display(EDX_gridbox);\n",
    "W_elm.observe(EDX_plot, names='value');\n",
    "W_folderpath.observe(EDX_plot, names='value');"
   ]
  },
  {
   "cell_type": "raw",
   "id": "af8755f8-4d7d-4704-8f77-42113d16bab3",
   "metadata": {},
   "source": [
    "EDX Quantification (Not Working)"
   ]
  },
  {
   "cell_type": "code",
   "execution_count": null,
   "id": "972058c6-482e-4158-bfc2-54b4ae2676e5",
   "metadata": {
    "jupyter": {
     "source_hidden": true
    }
   },
   "outputs": [],
   "source": [
    "#attempt at doing element quantification with EDX spectra (not working)\n",
    "import exspy;\n",
    "import hyperspy.api as hs;\n",
    "import numpy as np;\n",
    "#from hyperspy import quantification;\n",
    "\n",
    "#reading spectrum.txt file\n",
    "with open('./data/EDX/DyCo-Pd_1-6/Spectrum_(11,1).txt') as file:\n",
    "    for line in file:\n",
    "        if line.startswith(\"Primary energy\"):\n",
    "            beam_energy = float(line.split(': ')[1].strip());\n",
    "        elif line.startswith(\"Tilt angle\"):\n",
    "            tilt_stage = float(line.split(': ')[1].strip());\n",
    "        elif line.startswith(\"Azimut angle\"):\n",
    "            azimuth_angle = float(line.split(': ')[1].strip());\n",
    "        elif line.startswith(\"Take off angle\"):\n",
    "            elevation_angle = float(line.split(': ')[1].strip());\n",
    "        elif line.startswith(\"Mn FWHM\"):\n",
    "            energy_resolution_MnKa = float(line.split(': ')[1].strip());\n",
    "        elif line.startswith(\"Calibration, abs.\"):\n",
    "            offset = float(line.split(': ')[1].strip())/1000;\n",
    "        elif line.startswith(\"Calibration, lin.\"):\n",
    "            scale = float(line.split(': ')[1].strip())/1000;\n",
    "            \n",
    "        elif line.startswith(\"Energy Counts\"):\n",
    "            data_tab = [int(y) for y in file.read().split()[1::2]];\n",
    "            break;\n",
    "\n",
    "#add data inside a signal1D\n",
    "s = hs.signals.Signal1D(data_tab);\n",
    "\n",
    "#set EDX metadata parameters\n",
    "s.set_signal_type('EDS_SEM');\n",
    "s.metadata.General.title = 'DyCo-Pd_1-6';\n",
    "s.set_microscope_parameters(beam_energy = beam_energy,\n",
    "                            tilt_stage=tilt_stage,\n",
    "                            azimuth_angle=azimuth_angle,\n",
    "                            elevation_angle=elevation_angle,\n",
    "                            energy_resolution_MnKa= energy_resolution_MnKa);\n",
    "#set energy axes and scale\n",
    "s.axes_manager[-1].name = 'E';\n",
    "s.axes_manager['E'].units = 'keV';\n",
    "s.axes_manager['E'].scale = scale;\n",
    "s.axes_manager['E'].offset = offset;\n",
    "\n",
    "#definie element to characterize\n",
    "s.set_elements(['Si', 'Co', 'Dy','Pd', 'C', 'O']);\n",
    "s.add_lines();\n",
    "\n",
    "#display stuff\n",
    "print(s.get_lines_intensity(plot_result=True));\n",
    "print(\"---\")\n",
    "#background substraction and intensities calculations\n",
    "bw = s.estimate_background_windows(line_width=[5.0, 1.0]);\n",
    "m = s.create_model();\n",
    "m.fix_background();\n",
    "\n",
    "m.fit();\n",
    "m.fit_background(start_energy=2.0);\n",
    "\n",
    "intensities = m.get_lines_intensity(background_windows=bw, plot_result=True);\n",
    "m.plot(navigator='slider', autoscale='x');\n",
    "\n",
    "#print(hs.quantification);"
   ]
  }
 ],
 "metadata": {
  "kernelspec": {
   "display_name": "Python 3 (ipykernel)",
   "language": "python",
   "name": "python3"
  },
  "language_info": {
   "codemirror_mode": {
    "name": "ipython",
    "version": 3
   },
   "file_extension": ".py",
   "mimetype": "text/x-python",
   "name": "python",
   "nbconvert_exporter": "python",
   "pygments_lexer": "ipython3",
   "version": "3.10.9"
  }
 },
 "nbformat": 4,
 "nbformat_minor": 5
}
